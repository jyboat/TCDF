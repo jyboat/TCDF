{
 "cells": [
  {
   "cell_type": "code",
   "execution_count": null,
   "metadata": {},
   "outputs": [],
   "source": [
    "\"\"\"Run TCDF\"\"\"\n",
    "%matplotlib inline\n",
    "# WLs\n",
    "# %run -i \"runTCDF.py\" --data scaled_combined_weather_WL_standard.csv --cuda --significance 1 --plot  \n",
    "# %run -i \"runTCDF.py\" --data scaled_combined_weather_WL_standard.csv --cuda --kernel_size 4 --dilation_coefficient 4 --hidden_layers 3 --significance 1 --plot    \n",
    "# %run -i \"runTCDF.py\" --data scaled_combined_weather_WL_standard.csv --cuda --kernel_size 4 --dilation_coefficient 4 --hidden_layers 4 --significance 1 --plot    \n",
    "# %run -i \"runTCDF.py\" --data scaled_combined_weather_WL_standard.csv --cuda --kernel_size 4 --dilation_coefficient 4 --hidden_layers 5 --significance 1 --plot    \n",
    "\n",
    "# SLA\n",
    "# %run -i \"runTCDF.py\" --data scaled_combined_weather_SLA_standard.csv --cuda --significance 1 --plot  \n",
    "# %run -i \"runTCDF.py\" --data scaled_combined_weather_SLA_standard.csv --cuda --kernel_size 4 --dilation_coefficient 4 --hidden_layers 3 --significance 1 --plot    \n",
    "# %run -i \"runTCDF.py\" --data scaled_combined_weather_SLA_standard.csv --cuda --kernel_size 4 --dilation_coefficient 4 --hidden_layers 4 --significance 1 --plot    \n",
    "# %run -i \"runTCDF.py\" --data scaled_combined_weather_SLA_standard.csv --cuda --kernel_size 4 --dilation_coefficient 4 --hidden_layers 5 --significance 1 --plot\n",
    "\n",
    "# dataset used in web app\n",
    "# %run -i \"runTCDF.py\" --data combined_weather_SLA.csv --cuda --kernel_size 4 --dilation_coefficient 4 --hidden_layers 5 --significance 1 --plot\n",
    "# %run -i \"runTCDF.py\" --data exp_combined_weather_SLA.csv --cuda --kernel_size 4 --dilation_coefficient 4 --hidden_layers 5 --significance 1 --plot        "
   ]
  },
  {
   "cell_type": "code",
   "execution_count": 18,
   "metadata": {
    "scrolled": false
   },
   "outputs": [],
   "source": [
    "# \"\"\"Run TCDF and evaluate by comparing the results to the ground truth\"\"\"\n",
    "# %matplotlib inline\n",
    "# %run -i \"runTCDF.py\" --ground_truth data/demo_dataset.csv=data/demo_groundtruth.csv  --epochs 500 --log_interval 250 --plot"
   ]
  },
  {
   "cell_type": "code",
   "execution_count": 19,
   "metadata": {},
   "outputs": [],
   "source": [
    "# \"\"\"Evaluates the prediction accuracy of TCDF.\"\"\"\n",
    "# \"\"\"For more information about MASE (Mean Absolute Scaled Error), see https://otexts.org/fpp2/accuracy.html\"\"\"\n",
    "\n",
    "# %matplotlib inline\n",
    "# %run -i \"evaluate_predictions_TCDF.py\" --data data/demo_dataset.csv --plot"
   ]
  }
 ],
 "metadata": {
  "kernelspec": {
   "display_name": "Python 3",
   "language": "python",
   "name": "python3"
  },
  "language_info": {
   "codemirror_mode": {
    "name": "ipython",
    "version": 3
   },
   "file_extension": ".py",
   "mimetype": "text/x-python",
   "name": "python",
   "nbconvert_exporter": "python",
   "pygments_lexer": "ipython3",
   "version": "3.10.0"
  }
 },
 "nbformat": 4,
 "nbformat_minor": 2
}
