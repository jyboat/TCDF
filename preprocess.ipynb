{
 "cells": [
  {
   "cell_type": "code",
   "execution_count": 1,
   "metadata": {},
   "outputs": [
    {
     "name": "stdout",
     "output_type": "stream",
     "text": [
      "Scaled data saved to: scaled_combined_weather_SLA_standard.csv\n"
     ]
    }
   ],
   "source": [
    "import pandas as pd\n",
    "from sklearn.preprocessing import StandardScaler\n",
    "import os\n",
    "\n",
    "# Load the dataset\n",
    "file_path = \"combined_weather_SLA.csv\"\n",
    "df = pd.read_csv(file_path)\n",
    "\n",
    "# Select only numeric columns\n",
    "df_numeric = df.select_dtypes(include=['number'])\n",
    "\n",
    "# Scale the data using StandardScaler (mean = 0, std = 1)\n",
    "scaler = StandardScaler()\n",
    "scaled_data = scaler.fit_transform(df_numeric)\n",
    "\n",
    "# Convert back to DataFrame with original column names\n",
    "scaled_df = pd.DataFrame(scaled_data, columns=df_numeric.columns)\n",
    "\n",
    "# Save to a new CSV\n",
    "scaled_file = \"scaled_combined_weather_SLA_standard.csv\"\n",
    "scaled_df.to_csv(scaled_file, index=False)\n",
    "\n",
    "print(f\"Scaled data saved to: {scaled_file}\")\n"
   ]
  },
  {
   "cell_type": "code",
   "execution_count": 2,
   "metadata": {},
   "outputs": [
    {
     "name": "stdout",
     "output_type": "stream",
     "text": [
      "Scaled data saved to: scaled_combined_weather_WL_standard.csv\n"
     ]
    }
   ],
   "source": [
    "import pandas as pd\n",
    "from sklearn.preprocessing import StandardScaler\n",
    "import os\n",
    "\n",
    "# Load the dataset\n",
    "file_path = \"combined_weather_WL.csv\"\n",
    "df = pd.read_csv(file_path)\n",
    "\n",
    "# Select only numeric columns\n",
    "df_numeric = df.select_dtypes(include=['number'])\n",
    "\n",
    "# Scale the data using StandardScaler (mean = 0, std = 1)\n",
    "scaler = StandardScaler()\n",
    "scaled_data = scaler.fit_transform(df_numeric)\n",
    "\n",
    "# Convert back to DataFrame with original column names\n",
    "scaled_df = pd.DataFrame(scaled_data, columns=df_numeric.columns)\n",
    "\n",
    "# Save to a new CSV\n",
    "scaled_file = \"scaled_combined_weather_WL_standard.csv\"\n",
    "scaled_df.to_csv(scaled_file, index=False)\n",
    "\n",
    "print(f\"Scaled data saved to: {scaled_file}\")\n"
   ]
  }
 ],
 "metadata": {
  "kernelspec": {
   "display_name": "Python 3",
   "language": "python",
   "name": "python3"
  },
  "language_info": {
   "codemirror_mode": {
    "name": "ipython",
    "version": 3
   },
   "file_extension": ".py",
   "mimetype": "text/x-python",
   "name": "python",
   "nbconvert_exporter": "python",
   "pygments_lexer": "ipython3",
   "version": "3.10.0"
  }
 },
 "nbformat": 4,
 "nbformat_minor": 2
}
